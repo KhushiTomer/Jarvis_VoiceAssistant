{
  "nbformat": 4,
  "nbformat_minor": 0,
  "metadata": {
    "colab": {
      "provenance": [],
      "authorship_tag": "ABX9TyNR+eBJJdNpfztlWR/GfWHo",
      "include_colab_link": true
    },
    "kernelspec": {
      "name": "python3",
      "display_name": "Python 3"
    },
    "language_info": {
      "name": "python"
    },
    "accelerator": "GPU",
    "gpuClass": "standard"
  },
  "cells": [
    {
      "cell_type": "markdown",
      "metadata": {
        "id": "view-in-github",
        "colab_type": "text"
      },
      "source": [
        "<a href=\"https://colab.research.google.com/github/KhushiTomer/Jarvis_VoiceAssistant/blob/main/Voice_Assistant.ipynb\" target=\"_parent\"><img src=\"https://colab.research.google.com/assets/colab-badge.svg\" alt=\"Open In Colab\"/></a>"
      ]
    },
    {
      "cell_type": "markdown",
      "source": [
        "# **INSTALLATION OF MODULES**"
      ],
      "metadata": {
        "id": "_JUMfysP9Vh4"
      }
    },
    {
      "cell_type": "code",
      "source": [
        "! pip install pyttsx3\n",
        "! pip install speechRecognition\n",
        "! pip install pyproject.toml\n",
        "! pip install PyAudio\n",
        "! pip install wikipedia"
      ],
      "metadata": {
        "id": "OyR8bGPX9kdE"
      },
      "execution_count": null,
      "outputs": []
    },
    {
      "cell_type": "markdown",
      "source": [
        "# **IMPORTING MODULES**"
      ],
      "metadata": {
        "id": "Hkv0Od9u-dPL"
      }
    },
    {
      "cell_type": "code",
      "source": [
        "import pyttsx3\n",
        "import speech_recognition as sr\n",
        "import datetime\n",
        "import wikipedia\n",
        "import webbrowser\n",
        "import os\n",
        "import smtplib\n"
      ],
      "metadata": {
        "id": "wSLOSQfp-qGW"
      },
      "execution_count": null,
      "outputs": []
    },
    {
      "cell_type": "code",
      "source": [
        "engine= pyttsx3.init('sapi5')\n",
        "voices= engine.getProperty('voices')\n",
        "print(voices[1].id)\n",
        "engine.setProperty('Voices',voices[1].id)"
      ],
      "metadata": {
        "id": "oR0lymmi_LQ-"
      },
      "execution_count": null,
      "outputs": []
    },
    {
      "cell_type": "code",
      "source": [
        "def speak(audio):\n",
        "  engine.say(audio)\n",
        "  engine.runAndWait()\n",
        "\n",
        "def wishMe():\n",
        "  hour= int(datetime.datetime.now().hour)\n",
        "  if hour>=0 and hour<12:\n",
        "    speak(\"Good Morning!\")\n",
        "  elif hour>=12 and hour<18:\n",
        "    speak(\"Good Afternoon!\")\n",
        "  else:\n",
        "    speak(\"Good Evening!\")\n",
        "  speak(\"I am Lara. How may I help you\")"
      ],
      "metadata": {
        "id": "Tz05qh8lBQCm"
      },
      "execution_count": null,
      "outputs": []
    },
    {
      "cell_type": "code",
      "source": [
        "def takeCommand():\n",
        "  #It take microphone input from the user and return string output\n",
        "\n",
        "  r= sr.Recognizer()\n",
        "  with sr.Microphone()as source:\n",
        "    print(\"Listening...\")\n",
        "    r.pause_threshold=1\n",
        "    audio= r.listen(source)\n",
        "  try:\n",
        "    print(\"Recognizing...\")\n",
        "    query= r.recognize_google(audio, language='en-in')\n",
        "    print(f\"User said:{query}\\n\")\n",
        "  except Exception as e:\n",
        "    #print(e)\n",
        "    print(\"Say That Again Please...\")\n",
        "    return \"None\"\n",
        "    return query"
      ],
      "metadata": {
        "id": "dMHQ5ZFVC1Do"
      },
      "execution_count": null,
      "outputs": []
    },
    {
      "cell_type": "code",
      "source": [
        "def sendEmail(to, content):\n",
        "  #less secured apps should be enabled\n",
        "  server= smtplib.SMTP('smtp.gmail.com',587)\n",
        "  server.ehlo()\n",
        "  server.starttls()\n",
        "  server.login('youremail@gmail.com','your-password here')\n",
        "  server.sendmail('youremail@gmail.com',to,content)\n",
        "  server.close()\n",
        "\n",
        "if __name__ ==\"__main__\":\n",
        "  wishMe()\n",
        "  #while True:\n",
        "  if 1:\n",
        "    query= takeCommand().lower()\n",
        "    #logic for executing tasks based on query\n",
        "    if 'wikipedia' in query:\n",
        "      speak('Searching Wikipedia...')\n",
        "      query= query.replace(\"Wikipedia\",\"\")\n",
        "      result= wikipedia.summary(query,setences=2)\n",
        "      speak(\"According to wikipedia\")\n",
        "      print(results)\n",
        "      speak(results)\n",
        "    elif 'open youtube' in query:\n",
        "      webbrowser.open(\"Youtube.com\")\n",
        "    elif 'open google' in query:\n",
        "      webbrowser.open(\"google.com\")\n",
        "    elif 'play music' in query:\n",
        "      music_dir=\"D:\\SONGS\\English\"\n",
        "      songs= os.listdir(music_dir)\n",
        "      print(songs)\n",
        "      os.startfile(os.path.join(music_dir,songs[0]))\n",
        "    elif 'the time' in query:\n",
        "      strTime= datetie.datetime.now().strftime(\"%H:%M:%S\")\n",
        "      speak(f\"The time is {strTime}\")\n",
        "    elif 'open code' in query:\n",
        "      code_path=''#path of the code\n",
        "      os.strtfile(code_path)\n",
        "    elif 'email to Khushi Tomer' in query:\n",
        "      #Dictionary can be made of the user and subject to which the email can be sent\n",
        "      try:\n",
        "        speak(\"What should I say?\")\n",
        "        content= takeCommand()\n",
        "        to= \"yourEmail@gmail.com\"\n",
        "        sendEmail(to, content)\n",
        "        speak(\"Email has been sent!\")\n",
        "      except Exception as e:\n",
        "        print(e)\n",
        "        speak(\"Sorry the email is unable to sent at the moment\")\n"
      ],
      "metadata": {
        "id": "IKkXo8QnFb00"
      },
      "execution_count": null,
      "outputs": []
    },
    {
      "cell_type": "code",
      "source": [
        "print('Thank You')"
      ],
      "metadata": {
        "id": "LfsStSVQP5sk"
      },
      "execution_count": null,
      "outputs": []
    }
  ]
}